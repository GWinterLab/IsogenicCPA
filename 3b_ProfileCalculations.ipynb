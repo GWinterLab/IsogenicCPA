{
 "cells": [
  {
   "cell_type": "markdown",
   "id": "802d6217-98b2-4286-8dd9-0b99e39e830c",
   "metadata": {},
   "source": [
    "# Profile calculations\n",
    "Written by: Amanda Ng R.H.\n",
    "<br>Language: `python3`\n",
    "<br>Created on: 19 Apr 2023\n",
    "<br>Last updated on: 06 Sep 2023\n",
    "<br>Prior data processing: Required (📔 2_QC_ProfileAssembly_FeatureSelection.ipynb)\n",
    "<br>Documentation status: In progress ([Sphinx documentation style](https://sphinx-rtd-tutorial.readthedocs.io/en/latest/docstrings.html))\n",
    "\n",
    "The morphological profile and the relevant features have been selected using different feature selection strategies in 📔 2_QC_ProfileAssembly_FeatureSelection.ipynb."
   ]
  },
  {
   "cell_type": "markdown",
   "id": "fd308739-32ac-46c5-b858-359b419380d1",
   "metadata": {},
   "source": [
    "## a| Calculations for RKO WT data with features selected using `global_c662_rko_wt` strategy was done in `julia`\n",
    "\n",
    "The calculations were executed externally from this notebook using the following commands, which runs the 📜 execute_distanceCalculation.sh script:"
   ]
  },
  {
   "cell_type": "markdown",
   "id": "b107f3af-556e-486e-a5a8-05a52ed69385",
   "metadata": {},
   "source": [
    "```bash\n",
    "# Path to the script\n",
    "script=/research/lab_winter/users/ang/isogenicCPA_repo/3a_execute_distanceCalculation.sh\n",
    "\n",
    "# Prepare the script for execution\n",
    "dos2unix ${script}\n",
    "chmod +x ${script}\n",
    "\n",
    "# Execute the script\n",
    "sbatch ${script}\n",
    "```"
   ]
  },
  {
   "cell_type": "markdown",
   "id": "8fab0009-988d-49e8-a3a2-c8d9b544eb9c",
   "metadata": {},
   "source": [
    "The calculations done include UMAP reduction of the profile with `UMAP.jl` and the distance calculation with the robust Hellinger distance from `BioProfiling.jl`. The data from here will be used for visualization purposes in downstream notebooks.\n",
    "\n",
    "I use these calculations for assessing the morphological perturbation strength of each compound."
   ]
  },
  {
   "cell_type": "markdown",
   "id": "fda206e8-d28b-4cb9-9581-74fd343832bc",
   "metadata": {},
   "source": [
    "## b| Calculations for CRBN-dependency interpretation in `python`\n",
    "The calculations for CRBN-dependency prediction are done in this notebook.\n",
    "\n",
    "In brief, features are selected for each treatment (\"treatment-centric\"). These features exhibit high heterogeniety in RKO WT, but exhibit a clear morphological perturbation in RKO CRBN OE. The morphological perturbation in question tends to be higher in RKO CRBN OE than RKO CRBN KO.\n",
    "\n",
    "I hypothesize that these treatment-centric features could be used to calculate an **induction score** (loosely inspired by the approaches described by [Schneidewind _et al._](https://doi.org/10.1016/j.chembiol.2021.06.003) and [Woehrmann _et al._](https://doi.org/10.1039/C3MB70245F)). The induction score should reflect the overall change in treatment-centric features per image (per treatment and per cell line). The induction score should be the highest in RKO CRBN OE and the lowest in RKO CRBN KO. The difference between these two cell lines can be quantified using the U statistic from the Mann-Whitney U test. (I use the **corrected U** statistic instead, which is the U statistic as a fraction of the maximum possible U statistic for a given treatment.)\n",
    "\n",
    "Considering the way features are selected with the treatment-centric strategy, CRBN-independent treatments could exhibit the same induction vaue trend. I would, however, expect the trend to be a lot weaker/less pronounced compared to CRBN-dependent treatments."
   ]
  },
  {
   "cell_type": "markdown",
   "id": "9e30c199-2589-4e9b-a1e7-2a7068c6424f",
   "metadata": {},
   "source": [
    "### Import packages"
   ]
  },
  {
   "cell_type": "code",
   "execution_count": null,
   "id": "a0ec54fb-6c24-4c00-abc6-12c2aec58aac",
   "metadata": {},
   "outputs": [],
   "source": [
    "import os\n",
    "import warnings\n",
    "\n",
    "import pandas as pd\n",
    "\n",
    "import seaborn as sns\n",
    "from matplotlib import pylab as plt\n",
    "from matplotlib.patches import Patch\n",
    "\n",
    "import statistics\n",
    "import numpy as np\n",
    "from scipy.stats import mannwhitneyu\n",
    "import math"
   ]
  },
  {
   "cell_type": "markdown",
   "id": "6a05d639-ce4f-4d8f-9d1e-7f423e01099c",
   "metadata": {},
   "source": [
    "### Import self-written functions"
   ]
  },
  {
   "cell_type": "code",
   "execution_count": null,
   "id": "7310fdea-7ec6-439c-9d60-7a0c3b3572b6",
   "metadata": {},
   "outputs": [],
   "source": [
    "# Add the paths to the modules to where python will search for modules\n",
    "import sys\n",
    "root = \"/research/lab_winter/users/ang\"\n",
    "module_paths = [\n",
    "    f\"{root}/isogenicCPA_repo/2_feature_analysis\"\n",
    "]\n",
    "for module_path in module_paths:\n",
    "    sys.path.insert(0, module_path)\n",
    "    \n",
    "from general_modules import *\n",
    "from profile_interpretation_modules import *"
   ]
  },
  {
   "cell_type": "markdown",
   "id": "bb8a6798-f3ad-4e14-9d27-e95c00e802f9",
   "metadata": {},
   "source": [
    "### Setting up"
   ]
  },
  {
   "cell_type": "code",
   "execution_count": null,
   "id": "c9ae29d9-4b77-41b1-b25f-eebc6ac296de",
   "metadata": {},
   "outputs": [],
   "source": [
    "######################################################################################\n",
    "# Paths to the relevant files and directories prior or unrelated to feature extraction\n",
    "######################################################################################\n",
    "# Path to the parent direcotry with all the data for the experiment\n",
    "parent_dir = \"/research/lab_winter/users/ang/projects/GW015_SuFEX_IMiDs/GW015_006__full_cpa\"\n",
    "\n",
    "# Path to the drug metadata sheet\n",
    "drugMetadata_path = f\"{parent_dir}/drug_metadata_sheet.csv\"\n",
    "\n",
    "###################################################################################\n",
    "# Paths to the relevant files and directories from post-feature extraction pipeline\n",
    "###################################################################################\n",
    "# Path to the outputs from the post-feature extraction pipeline\n",
    "post_feature_extraction_output_dir = f\"{parent_dir}/cleanPostFeatureExtraction/output_dir\"\n",
    "\n",
    "# Path to the morphology profile after robust Z standardization and baseline feature selection\n",
    "profile_path = f\"{post_feature_extraction_output_dir}/2_ProfileAssemblyAndFeatureSelection_output/baseline_output.csv\"\n",
    "\n",
    "# Path to the features selected\n",
    "selectedFeatures_path = f\"{post_feature_extraction_output_dir}/2_ProfileAssemblyAndFeatureSelection_output/featuresSelected_output.csv\"\n",
    "\n",
    "############################################################\n",
    "# Path to the directory for the output(s) from this notebook\n",
    "############################################################\n",
    "# Path to the output directory and make it\n",
    "output_dir = f\"{post_feature_extraction_output_dir}/3_ProfileInterpretation_output/Python_calculations\"\n",
    "makeDirectory(output_dir)"
   ]
  },
  {
   "cell_type": "markdown",
   "id": "df7680d5-b20c-473b-bc40-528085128541",
   "metadata": {},
   "source": [
    "### Induction score and corrected U calculation"
   ]
  },
  {
   "cell_type": "code",
   "execution_count": null,
   "id": "a3f5285b-cb54-431f-a093-bb276ac06c14",
   "metadata": {
    "scrolled": true,
    "tags": []
   },
   "outputs": [],
   "source": [
    "# Path to export the induction scores calculated\n",
    "inductionScores_path = f\"{output_dir}/inductionScores.csv\"\n",
    "\n",
    "# Calculate the induction scores\n",
    "inductionScores = calculateInductionScores(\n",
    "    selectedFeatures = pd.read_csv(selectedFeatures_path),\n",
    "    profile = pd.read_csv(profile_path),\n",
    "    treatmentsToUse = \"all\"\n",
    ")\n",
    "\n",
    "# Export the induction scores\n",
    "inductionScores.to_csv(inductionScores_path, index = False)\n",
    "\n",
    "# Have a look at the induction scores calculated\n",
    "inductionScores.sample(n = 5)"
   ]
  },
  {
   "cell_type": "code",
   "execution_count": null,
   "id": "1e482304-2c8a-4668-a3ad-5cce600b690b",
   "metadata": {},
   "outputs": [],
   "source": [
    "# Path to the corrected U scores calculated\n",
    "correctedU_path = f\"{output_dir}/correctedU.csv\"\n",
    "\n",
    "# Calculate the corrected U\n",
    "correctedU = compareInduction(\n",
    "    inductionScores = inductionScores,\n",
    "    ko = \"c1141_rko_ko\",\n",
    "    oe = \"c1327_rko_oe\"\n",
    ")\n",
    "\n",
    "# Export the corrected U\n",
    "correctedU.to_csv(correctedU_path, index = False)\n",
    "\n",
    "# Have a look at the corrected U calculated\n",
    "correctedU.sample(n = 5)"
   ]
  },
  {
   "cell_type": "markdown",
   "id": "22f2f6ce-6d7b-415f-9bcd-0213210a397a",
   "metadata": {},
   "source": [
    "## Completion of profile calculations\n",
    "Proceed on to <span style=\"color:blue\">**Profile Interpretations**</span>."
   ]
  }
 ],
 "metadata": {
  "kernelspec": {
   "display_name": "Python 3 (ipykernel)",
   "language": "python",
   "name": "python3"
  },
  "language_info": {
   "codemirror_mode": {
    "name": "ipython",
    "version": 3
   },
   "file_extension": ".py",
   "mimetype": "text/x-python",
   "name": "python",
   "nbconvert_exporter": "python",
   "pygments_lexer": "ipython3",
   "version": "3.11.4"
  }
 },
 "nbformat": 4,
 "nbformat_minor": 5
}
